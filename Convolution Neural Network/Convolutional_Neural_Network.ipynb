{
  "nbformat": 4,
  "nbformat_minor": 0,
  "metadata": {
    "colab": {
      "provenance": []
    },
    "kernelspec": {
      "name": "python3",
      "display_name": "Python 3"
    },
    "language_info": {
      "name": "python"
    }
  },
  "cells": [
    {
      "cell_type": "code",
      "execution_count": 2,
      "metadata": {
        "id": "kpZAxFugHxg4"
      },
      "outputs": [],
      "source": [
        "trainingImgPath = '/content/drive/MyDrive/Face Images/Final Training Images'"
      ]
    },
    {
      "cell_type": "code",
      "source": [
        "from keras.preprocessing.image import ImageDataGenerator"
      ],
      "metadata": {
        "id": "fNaxmxOwJyLX"
      },
      "execution_count": 1,
      "outputs": []
    },
    {
      "cell_type": "code",
      "source": [
        "trainingDataGen = ImageDataGenerator(\n",
        "    shear_range= 0.1,\n",
        "    zoom_range = 0.1,\n",
        "    horizontal_flip= True)"
      ],
      "metadata": {
        "id": "1lGi3L1HKOdd"
      },
      "execution_count": 3,
      "outputs": []
    },
    {
      "cell_type": "code",
      "source": [
        "testDataGen = ImageDataGenerator()"
      ],
      "metadata": {
        "id": "GiMgw5VvKn0g"
      },
      "execution_count": 4,
      "outputs": []
    },
    {
      "cell_type": "code",
      "source": [
        "trainingSet = trainingDataGen.flow_from_directory(\n",
        "    trainingImgPath,\n",
        "    target_size = (64, 64),\n",
        "    batch_size=32,\n",
        "    class_mode='categorical'\n",
        ")"
      ],
      "metadata": {
        "colab": {
          "base_uri": "https://localhost:8080/"
        },
        "id": "mvMmeM1qKwZw",
        "outputId": "93eebbce-963c-4ec9-bdb6-570d375a1cca"
      },
      "execution_count": 5,
      "outputs": [
        {
          "output_type": "stream",
          "name": "stdout",
          "text": [
            "Found 64 images belonging to 16 classes.\n"
          ]
        }
      ]
    },
    {
      "cell_type": "code",
      "source": [
        "testSet = trainingDataGen.flow_from_directory(\n",
        "    trainingImgPath,\n",
        "    target_size = (64, 64),\n",
        "    batch_size=32,\n",
        "    class_mode='categorical'\n",
        ")"
      ],
      "metadata": {
        "colab": {
          "base_uri": "https://localhost:8080/"
        },
        "id": "4iLYeMvCLLSJ",
        "outputId": "af39c83f-2b2f-41a4-f16d-38a936a6d31f"
      },
      "execution_count": 6,
      "outputs": [
        {
          "output_type": "stream",
          "name": "stdout",
          "text": [
            "Found 64 images belonging to 16 classes.\n"
          ]
        }
      ]
    },
    {
      "cell_type": "code",
      "source": [
        "testSet.class_indices"
      ],
      "metadata": {
        "colab": {
          "base_uri": "https://localhost:8080/"
        },
        "id": "9lUcAdqdLUA3",
        "outputId": "da75a9c2-b452-4c71-aaed-290dea0c6dce"
      },
      "execution_count": 7,
      "outputs": [
        {
          "output_type": "execute_result",
          "data": {
            "text/plain": [
              "{'face1': 0,\n",
              " 'face10': 1,\n",
              " 'face11': 2,\n",
              " 'face12': 3,\n",
              " 'face13': 4,\n",
              " 'face14': 5,\n",
              " 'face15': 6,\n",
              " 'face16': 7,\n",
              " 'face2': 8,\n",
              " 'face3': 9,\n",
              " 'face4': 10,\n",
              " 'face5': 11,\n",
              " 'face6': 12,\n",
              " 'face7': 13,\n",
              " 'face8': 14,\n",
              " 'face9': 15}"
            ]
          },
          "metadata": {},
          "execution_count": 7
        }
      ]
    },
    {
      "cell_type": "code",
      "source": [
        "trainigClasses = trainingSet.class_indices"
      ],
      "metadata": {
        "id": "QU9muvjhLYpI"
      },
      "execution_count": 8,
      "outputs": []
    },
    {
      "cell_type": "code",
      "source": [
        "resultMap ={}\n",
        "for faceValue, faceName in zip(trainigClasses.values(), trainigClasses.keys()):\n",
        "    resultMap[faceValue] = faceName"
      ],
      "metadata": {
        "id": "Zk8If5HCLn6O"
      },
      "execution_count": 10,
      "outputs": []
    },
    {
      "cell_type": "code",
      "source": [
        "import pickle\n",
        "with open(\"resultsMap.pkl\", 'wb') as fileWriteStream:\n",
        "    pickle.dump(resultMap, fileWriteStream)"
      ],
      "metadata": {
        "id": "dMz0hFgyMGRn"
      },
      "execution_count": 11,
      "outputs": []
    },
    {
      "cell_type": "code",
      "source": [
        "print(resultMap)"
      ],
      "metadata": {
        "colab": {
          "base_uri": "https://localhost:8080/"
        },
        "id": "5UA_3kXbMuwq",
        "outputId": "a74717ad-e2ff-4524-b6be-194beac4d14d"
      },
      "execution_count": 14,
      "outputs": [
        {
          "output_type": "stream",
          "name": "stdout",
          "text": [
            "{0: 'face1', 1: 'face10', 2: 'face11', 3: 'face12', 4: 'face13', 5: 'face14', 6: 'face15', 7: 'face16', 8: 'face2', 9: 'face3', 10: 'face4', 11: 'face5', 12: 'face6', 13: 'face7', 14: 'face8', 15: 'face9'}\n"
          ]
        }
      ]
    },
    {
      "cell_type": "code",
      "source": [
        "outputNeurons = len (resultMap)"
      ],
      "metadata": {
        "id": "VxI7t5MaMfn1"
      },
      "execution_count": 12,
      "outputs": []
    },
    {
      "cell_type": "code",
      "source": [
        "print(outputNeurons)"
      ],
      "metadata": {
        "colab": {
          "base_uri": "https://localhost:8080/"
        },
        "id": "sJfUXziyMkC1",
        "outputId": "d7472df1-f0fc-48d5-9f1e-8c77e874ff1b"
      },
      "execution_count": 13,
      "outputs": [
        {
          "output_type": "stream",
          "name": "stdout",
          "text": [
            "16\n"
          ]
        }
      ]
    },
    {
      "cell_type": "code",
      "source": [
        "from keras.models import Sequential\n",
        "from keras.layers import Convolution2D\n",
        "from keras.layers import MaxPool2D\n",
        "from keras.layers import Flatten\n",
        "from keras.layers import Dense"
      ],
      "metadata": {
        "id": "aoUm185VM39C"
      },
      "execution_count": 15,
      "outputs": []
    },
    {
      "cell_type": "code",
      "source": [
        "classifier = Sequential()"
      ],
      "metadata": {
        "id": "YgZl8-_PM8Aw"
      },
      "execution_count": 16,
      "outputs": []
    },
    {
      "cell_type": "code",
      "source": [
        "classifier.add(Convolution2D(32, kernel_size=(5,5), strides=(1,1), input_shape=(64,64,3), activation='relu'))"
      ],
      "metadata": {
        "id": "rwAEL-P7NLuK"
      },
      "execution_count": 18,
      "outputs": []
    },
    {
      "cell_type": "code",
      "source": [
        "classifier.add(MaxPool2D(pool_size = (2,2)))"
      ],
      "metadata": {
        "id": "eaf7kpMpNCtL"
      },
      "execution_count": 20,
      "outputs": []
    },
    {
      "cell_type": "code",
      "source": [
        "classifier.add(Convolution2D(64, kernel_size=(5,5), strides=(1,1), activation='relu'))"
      ],
      "metadata": {
        "id": "0Sm7I9ZUNsiQ"
      },
      "execution_count": 21,
      "outputs": []
    },
    {
      "cell_type": "code",
      "source": [
        "classifier.add(MaxPool2D(pool_size = (2,2)))"
      ],
      "metadata": {
        "id": "gxABRK6DNzdt"
      },
      "execution_count": 22,
      "outputs": []
    },
    {
      "cell_type": "code",
      "source": [
        "classifier.add(Flatten())"
      ],
      "metadata": {
        "id": "q4TxFmoKN5wr"
      },
      "execution_count": 23,
      "outputs": []
    },
    {
      "cell_type": "code",
      "source": [
        "classifier.add(Dense(64, activation = 'relu'))"
      ],
      "metadata": {
        "id": "vti5f3yaN-I7"
      },
      "execution_count": 24,
      "outputs": []
    },
    {
      "cell_type": "code",
      "source": [
        "classifier.add(Dense(outputNeurons, activation = 'softmax'))"
      ],
      "metadata": {
        "id": "tjZK9YVtODEL"
      },
      "execution_count": 25,
      "outputs": []
    },
    {
      "cell_type": "code",
      "source": [
        "classifier.compile(loss='categorical_crossentropy', optimizer = 'adam', metrics = [\"accuracy\"])"
      ],
      "metadata": {
        "id": "q5zaFX2ZOLZh"
      },
      "execution_count": 26,
      "outputs": []
    },
    {
      "cell_type": "code",
      "source": [
        "import time"
      ],
      "metadata": {
        "id": "SpLdPKM9OYib"
      },
      "execution_count": 27,
      "outputs": []
    },
    {
      "cell_type": "code",
      "source": [
        "startTime = time.time()"
      ],
      "metadata": {
        "id": "bMOIsLX5OcWr"
      },
      "execution_count": 29,
      "outputs": []
    },
    {
      "cell_type": "code",
      "source": [
        "classifier.fit_generator(\n",
        "    trainingSet,\n",
        "    steps_per_epoch=30,\n",
        "    epochs = 10,\n",
        "    validation_data = testSet,\n",
        "    validation_steps = 10\n",
        ")"
      ],
      "metadata": {
        "colab": {
          "base_uri": "https://localhost:8080/"
        },
        "id": "u0oIPjzwOgnD",
        "outputId": "5abc09dc-0c18-4908-fff4-b8116f1ffcce"
      },
      "execution_count": 30,
      "outputs": [
        {
          "output_type": "stream",
          "name": "stderr",
          "text": [
            "<ipython-input-30-53439c875f94>:1: UserWarning: `Model.fit_generator` is deprecated and will be removed in a future version. Please use `Model.fit`, which supports generators.\n",
            "  classifier.fit_generator(\n"
          ]
        },
        {
          "output_type": "stream",
          "name": "stdout",
          "text": [
            "Epoch 1/10\n",
            " 2/30 [=>............................] - ETA: 10:11 - loss: 209.4193 - accuracy: 0.0938"
          ]
        },
        {
          "output_type": "stream",
          "name": "stderr",
          "text": [
            "WARNING:tensorflow:Your input ran out of data; interrupting training. Make sure that your dataset or generator can generate at least `steps_per_epoch * epochs` batches (in this case, 300 batches). You may need to use the repeat() function when building your dataset.\n",
            "WARNING:tensorflow:Your input ran out of data; interrupting training. Make sure that your dataset or generator can generate at least `steps_per_epoch * epochs` batches (in this case, 10 batches). You may need to use the repeat() function when building your dataset.\n"
          ]
        },
        {
          "output_type": "stream",
          "name": "stdout",
          "text": [
            "\b\b\b\b\b\b\b\b\b\b\b\b\b\b\b\b\b\b\b\b\b\b\b\b\b\b\b\b\b\b\b\b\b\b\b\b\b\b\b\b\b\b\b\b\b\b\b\b\b\b\b\b\b\b\b\b\b\b\b\b\b\b\b\b\b\b\b\b\b\b\b\b\b\b\b\b\b\b\b\b\b\b\b\b\b\b\b\r30/30 [==============================] - 25s 790ms/step - loss: 209.4193 - accuracy: 0.0938 - val_loss: 280.5082 - val_accuracy: 0.0625\n"
          ]
        },
        {
          "output_type": "execute_result",
          "data": {
            "text/plain": [
              "<keras.src.callbacks.History at 0x7bd288ff9d50>"
            ]
          },
          "metadata": {},
          "execution_count": 30
        }
      ]
    },
    {
      "cell_type": "code",
      "source": [
        "EndTime = time.time()"
      ],
      "metadata": {
        "id": "Prm6TM00O3-k"
      },
      "execution_count": 31,
      "outputs": []
    },
    {
      "cell_type": "code",
      "source": [
        "import numpy as np\n",
        "from keras.preprocessing import image"
      ],
      "metadata": {
        "id": "8dXxoP5wPBpx"
      },
      "execution_count": 32,
      "outputs": []
    },
    {
      "cell_type": "code",
      "source": [
        "imgPath = '/content/drive/MyDrive/Face Images/Final Testing Images/face9/1face9.jpg'"
      ],
      "metadata": {
        "id": "cNKJY6pePIrx"
      },
      "execution_count": 37,
      "outputs": []
    },
    {
      "cell_type": "code",
      "source": [
        "testImg = image.load_img(imgPath, target_size=(64,64))\n",
        "testImg = image.img_to_array(testImg)\n",
        "testImg = np.expand_dims(testImg, axis=0)"
      ],
      "metadata": {
        "id": "W5oBoD4BPT6_"
      },
      "execution_count": 38,
      "outputs": []
    },
    {
      "cell_type": "code",
      "source": [
        "result = classifier.predict(testImg, verbose = 0)\n",
        "print('Prediction:', resultMap[np.argmax(result)])"
      ],
      "metadata": {
        "colab": {
          "base_uri": "https://localhost:8080/"
        },
        "id": "iPX-ibYKPyYd",
        "outputId": "4bc9e55f-3975-4124-c43b-7dcc3e9fa8cf"
      },
      "execution_count": 39,
      "outputs": [
        {
          "output_type": "stream",
          "name": "stdout",
          "text": [
            "Prediction: face8\n"
          ]
        }
      ]
    }
  ]
}